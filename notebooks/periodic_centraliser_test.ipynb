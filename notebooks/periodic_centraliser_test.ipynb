{
 "cells": [
  {
   "cell_type": "code",
   "execution_count": 11,
   "metadata": {
    "collapsed": false,
    "scrolled": true
   },
   "outputs": [
    {
     "data": {
      "text/plain": [
       "['Automorphism',\n",
       " 'Generators',\n",
       " 'In',\n",
       " 'Out',\n",
       " 'Word',\n",
       " '_',\n",
       " '_1',\n",
       " '_2',\n",
       " '_3',\n",
       " '_4',\n",
       " '_6',\n",
       " '_7',\n",
       " '_8',\n",
       " '__',\n",
       " '___',\n",
       " '__builtin__',\n",
       " '__builtins__',\n",
       " '__doc__',\n",
       " '__loader__',\n",
       " '__name__',\n",
       " '__package__',\n",
       " '__spec__',\n",
       " '_dh',\n",
       " '_i',\n",
       " '_i1',\n",
       " '_i10',\n",
       " '_i11',\n",
       " '_i2',\n",
       " '_i3',\n",
       " '_i4',\n",
       " '_i5',\n",
       " '_i6',\n",
       " '_i7',\n",
       " '_i8',\n",
       " '_i9',\n",
       " '_ih',\n",
       " '_ii',\n",
       " '_iii',\n",
       " '_oh',\n",
       " '_sh',\n",
       " 'acos',\n",
       " 'acosh',\n",
       " 'asin',\n",
       " 'asinh',\n",
       " 'atan',\n",
       " 'atan2',\n",
       " 'atanh',\n",
       " 'available_examples',\n",
       " 'ceil',\n",
       " 'copysign',\n",
       " 'cos',\n",
       " 'cosh',\n",
       " 'degrees',\n",
       " 'e',\n",
       " 'erf',\n",
       " 'erfc',\n",
       " 'exit',\n",
       " 'exp',\n",
       " 'expm1',\n",
       " 'f',\n",
       " 'fabs',\n",
       " 'factorial',\n",
       " 'floor',\n",
       " 'fmod',\n",
       " 'frexp',\n",
       " 'fsum',\n",
       " 'g',\n",
       " 'gamma',\n",
       " 'get_ipython',\n",
       " 'hypot',\n",
       " 'imports',\n",
       " 'isfinite',\n",
       " 'isinf',\n",
       " 'isnan',\n",
       " 'ldexp',\n",
       " 'lgamma',\n",
       " 'load_example',\n",
       " 'log',\n",
       " 'log10',\n",
       " 'log1p',\n",
       " 'log2',\n",
       " 'ls',\n",
       " 'modf',\n",
       " 'module',\n",
       " 'names',\n",
       " 'period',\n",
       " 'pi',\n",
       " 'pow',\n",
       " 'pprint',\n",
       " 'print_function',\n",
       " 'pwd',\n",
       " 'quit',\n",
       " 'radians',\n",
       " 'random_automorphism',\n",
       " 'random_basis',\n",
       " 'random_conjugate_infinite_pair',\n",
       " 'random_conjugate_pair',\n",
       " 'random_conjugate_periodic_pair',\n",
       " 'random_infinite_automorphism',\n",
       " 'random_periodic_automorphism',\n",
       " 'random_power_bounds',\n",
       " 'random_power_conjugate_pair',\n",
       " 'random_powers',\n",
       " 'random_signature',\n",
       " 'random_simple_word',\n",
       " 'rearranger',\n",
       " 's',\n",
       " 'shift',\n",
       " 'show_examples',\n",
       " 'sin',\n",
       " 'sinh',\n",
       " 'sqrt',\n",
       " 'standard_generator',\n",
       " 'tan',\n",
       " 'tanh',\n",
       " 'tree',\n",
       " 'trees',\n",
       " 'trunc']"
      ]
     },
     "execution_count": 11,
     "metadata": {},
     "output_type": "execute_result"
    }
   ],
   "source": [
    "from thompson import *\n",
    "from thompson.examples.random import *\n",
    "from pprint import pprint\n",
    "dir()"
   ]
  },
  {
   "cell_type": "code",
   "execution_count": 2,
   "metadata": {
    "collapsed": false
   },
   "outputs": [
    {
     "data": {
      "image/png": "[encoded data removed]",
      "text/plain": [
       "<IPython.core.display.Image object>"
      ]
     },
     "execution_count": 2,
     "metadata": {},
     "output_type": "execute_result"
    }
   ],
   "source": [
    "f = load_example('example_5_9')\n",
    "f.render_notebook()"
   ]
  },
  {
   "cell_type": "code",
   "execution_count": 12,
   "metadata": {
    "collapsed": false
   },
   "outputs": [
    {
     "data": {
      "text/plain": [
       "6"
      ]
     },
     "execution_count": 12,
     "metadata": {},
     "output_type": "execute_result"
    }
   ],
   "source": [
    "f.multiplicity\n",
    "f.order"
   ]
  },
  {
   "cell_type": "code",
   "execution_count": 4,
   "metadata": {
    "collapsed": false
   },
   "outputs": [
    {
     "data": {
      "text/plain": [
       "Generators((2, 1), ['x1 a1 a1', 'x1 a1 a2', 'x1 a2'])"
      ]
     },
     "execution_count": 4,
     "metadata": {},
     "output_type": "execute_result"
    }
   ],
   "source": [
    "tree = random_basis(num_expansions=2, signature=(2,1))\n",
    "tree"
   ]
  },
  {
   "cell_type": "code",
   "execution_count": 5,
   "metadata": {
    "collapsed": false
   },
   "outputs": [
    {
     "name": "stdout",
     "output_type": "stream",
     "text": [
      "2\n",
      "[(Generators((2, 1), ['x1 a1 a1', 'x1 a1 a2', 'x1 a2']), (0, 1, 1)), (Generators((2, 1), ['x1 a1 a1', 'x1 a1 a2', 'x1 a2']), (0, 1, 1))]\n",
      "PeriodicAut: V(2, 2) -> V(2, 2) specified by 2 generators (after expansion and reduction).\n",
      "x1 -> x1\n",
      "x2 -> x2\n"
     ]
    }
   ],
   "source": [
    "period = 2\n",
    "shift = (0, 1, 1)\n",
    "trees = [(tree, shift)] * period\n",
    "rearranger = Automorphism.identity((2, 2)) \n",
    "print(period, trees, rearranger, sep='\\n')"
   ]
  },
  {
   "cell_type": "code",
   "execution_count": 21,
   "metadata": {
    "collapsed": false
   },
   "outputs": [
    {
     "data": {
      "image/png": "[encoded data removed]",
      "text/plain": [
       "<IPython.core.display.Image object>"
      ]
     },
     "execution_count": 21,
     "metadata": {},
     "output_type": "execute_result"
    }
   ],
   "source": [
    "g = f.centralise_period(2, trees, rearranger)\n",
    "g.render_notebook()"
   ]
  },
  {
   "cell_type": "code",
   "execution_count": 19,
   "metadata": {
    "collapsed": false
   },
   "outputs": [
    {
     "data": {
      "text/plain": [
       "True"
      ]
     },
     "execution_count": 19,
     "metadata": {},
     "output_type": "execute_result"
    }
   ],
   "source": [
    "f*g == g*f"
   ]
  },
  {
   "cell_type": "code",
   "execution_count": 17,
   "metadata": {
    "collapsed": false
   },
   "outputs": [
    {
     "name": "stdout",
     "output_type": "stream",
     "text": [
      "InfiniteAut: V(2, 2) -> V(2, 2) specified by 5 generators (after expansion and reduction).\n",
      "x1 a1    -> x2 a1 a2 a2\n",
      "x1 a2    -> x1         \n",
      "x2 a1    -> x2 a1 a1   \n",
      "x2 a2 a1 -> x2 a1 a2 a1\n",
      "x2 a2 a2 -> x2 a2      \n"
     ]
    }
   ],
   "source": [
    "h = random_automorphism(num_expansions=3, signature=(2,2))\n",
    "print(h)"
   ]
  }
 ],
 "metadata": {
  "kernelspec": {
   "display_name": "Python 3",
   "language": "python",
   "name": "python3"
  },
  "language_info": {
   "codemirror_mode": {
    "name": "ipython",
    "version": 3
   },
   "file_extension": ".py",
   "mimetype": "text/x-python",
   "name": "python",
   "nbconvert_exporter": "python",
   "pygments_lexer": "ipython3",
   "version": "3.4.3"
  }
 },
 "nbformat": 4,
 "nbformat_minor": 0
}
