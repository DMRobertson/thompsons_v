{
 "cells": [
  {
   "cell_type": "markdown",
   "metadata": {},
   "source": [
    "# Example notebook for thompson\n",
    "This is an example notebook to get you started with *Jupyter*.\n",
    "This file is read-only, so use `File -> Make a copy` to get started on a new notebook.\n",
    "\n",
    "Code snippets can be typed and executed in this environment.\n",
    "They're presented alongside text snippets written in 'Markdown', sich as this one."
   ]
  },
  {
   "cell_type": "code",
   "execution_count": 1,
   "metadata": {
    "collapsed": false,
    "scrolled": true
   },
   "outputs": [
    {
     "data": {
      "text/plain": [
       "['Automorphism',\n",
       " 'Generators',\n",
       " 'In',\n",
       " 'Out',\n",
       " 'Word',\n",
       " '_',\n",
       " '__',\n",
       " '___',\n",
       " '__builtin__',\n",
       " '__builtins__',\n",
       " '__doc__',\n",
       " '__loader__',\n",
       " '__name__',\n",
       " '__package__',\n",
       " '__spec__',\n",
       " '_dh',\n",
       " '_i',\n",
       " '_i1',\n",
       " '_ih',\n",
       " '_ii',\n",
       " '_iii',\n",
       " '_oh',\n",
       " '_sh',\n",
       " 'acos',\n",
       " 'acosh',\n",
       " 'asin',\n",
       " 'asinh',\n",
       " 'atan',\n",
       " 'atan2',\n",
       " 'atanh',\n",
       " 'available_examples',\n",
       " 'ceil',\n",
       " 'copysign',\n",
       " 'cos',\n",
       " 'cosh',\n",
       " 'degrees',\n",
       " 'e',\n",
       " 'erf',\n",
       " 'erfc',\n",
       " 'exit',\n",
       " 'exp',\n",
       " 'expm1',\n",
       " 'fabs',\n",
       " 'factorial',\n",
       " 'floor',\n",
       " 'fmod',\n",
       " 'frexp',\n",
       " 'fsum',\n",
       " 'gamma',\n",
       " 'get_ipython',\n",
       " 'hypot',\n",
       " 'imports',\n",
       " 'isfinite',\n",
       " 'isinf',\n",
       " 'isnan',\n",
       " 'ldexp',\n",
       " 'lgamma',\n",
       " 'load_example',\n",
       " 'log',\n",
       " 'log10',\n",
       " 'log1p',\n",
       " 'log2',\n",
       " 'ls',\n",
       " 'modf',\n",
       " 'module',\n",
       " 'names',\n",
       " 'pi',\n",
       " 'pow',\n",
       " 'pprint',\n",
       " 'print_function',\n",
       " 'pwd',\n",
       " 'quit',\n",
       " 'radians',\n",
       " 'random_automorphism',\n",
       " 's',\n",
       " 'show_examples',\n",
       " 'sin',\n",
       " 'sinh',\n",
       " 'sqrt',\n",
       " 'tan',\n",
       " 'tanh',\n",
       " 'trunc']"
      ]
     },
     "execution_count": 1,
     "metadata": {},
     "output_type": "execute_result"
    }
   ],
   "source": [
    "from thompson import *\n",
    "dir()"
   ]
  },
  {
   "cell_type": "markdown",
   "metadata": {},
   "source": [
    "Both text can code can be edited and executed.\n",
    "The shortcut to execute the current cell's contents is `Control+Enter`.\n",
    "To execute and add a new cell below, press `Alt+Enter`.\n",
    "See also `Help -> Keyboard shortcuts`.\n",
    "\n",
    "To move to edit mode, press Enter (or double click).\n",
    "To escape to command mode, press Escape.\n",
    "\n",
    "In command mode, a cell can be toggled between Markdown (`M`) and code (`Y`).\n",
    "A kind GitHub user has provided a [cheat sheet for Markdown](https://github.com/adam-p/markdown-here/wiki/Markdown-Cheatsheet) online."
   ]
  },
  {
   "cell_type": "code",
   "execution_count": null,
   "metadata": {
    "collapsed": true
   },
   "outputs": [],
   "source": []
  }
 ],
 "metadata": {
  "kernelspec": {
   "display_name": "Python 3",
   "language": "python",
   "name": "python3"
  },
  "language_info": {
   "codemirror_mode": {
    "name": "ipython",
    "version": 3
   },
   "file_extension": ".py",
   "mimetype": "text/x-python",
   "name": "python",
   "nbconvert_exporter": "python",
   "pygments_lexer": "ipython3",
   "version": "3.4.3"
  }
 },
 "nbformat": 4,
 "nbformat_minor": 0
}
