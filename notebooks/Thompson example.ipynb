{
 "cells": [
  {
   "cell_type": "markdown",
   "metadata": {},
   "source": [
    "# An introduction to the `thompson` package\n",
    "\n",
    "This notebook is here to give a feel for what the thompson package can do. It's a Python package (for versions 3.3+) which lets you work with elements of the Higman-Thompson groups $G_{n,r}$, including Thompson's group $V$."
   ]
  },
  {
   "cell_type": "code",
   "execution_count": 1,
   "metadata": {
    "collapsed": false
   },
   "outputs": [
    {
     "name": "stdout",
     "output_type": "stream",
     "text": [
      "['Automorphism', 'Generators', 'In', 'Out', 'Word', '_', '__', '___', '__builtin__', '__builtins__', '__doc__', '__name__', '_dh', '_i', '_i1', '_ih', '_ii', '_iii', '_oh', '_sh', 'available_examples', 'exit', 'get_ipython', 'load_example', 'pprint', 'quit', 'show_examples']\n"
     ]
    }
   ],
   "source": [
    "from thompson import *\n",
    "from pprint import pprint\n",
    "print(dir())"
   ]
  },
  {
   "cell_type": "markdown",
   "metadata": {},
   "source": [
    "To get started, we'll `import *` from `thompson`. This is considered bad practice when you're writing a Python module, program or package, but it's okay for this short interactive session. We can see a number of objects which are part of Python (`__builtins__`, `__name__`, `exit`, `quit`) and some which are part of IPython (`In`, `Out`, `_sh`, and others). Those which are part of `thompson` are `Automorphism`, `Generators`, `Word`, `available_examples`, and `load_examples`. "
   ]
  },
  {
   "cell_type": "code",
   "execution_count": 2,
   "metadata": {
    "collapsed": false,
    "scrolled": true
   },
   "outputs": [
    {
     "name": "stdout",
     "output_type": "stream",
     "text": [
      "  1: alphabet_size_two\n",
      "  2: arity_four\n",
      "  3: arity_three_order_inf\n",
      "  4: bleak_alpha\n",
      "  5: cyclic_order_six\n",
      "  6: example_4_1\n",
      "  7: example_4_12\n",
      "  8: example_4_5\n",
      "  9: example_5_12_phi\n",
      " 10: example_5_12_psi\n",
      " 11: example_5_15\n",
      " 12: example_5_26_psi\n",
      " 13: example_5_3\n",
      " 14: example_5_9\n",
      " 15: example_6_2\n",
      " 16: example_6_8_phi\n",
      " 17: first_pond_example_phi\n",
      " 18: first_pond_example_psi\n",
      " 19: inf_conj_phi\n",
      " 20: inf_conj_psi\n",
      " 21: mixed_pconj_phi\n",
      " 22: mixed_pconj_psi\n",
      " 23: multiple_classes\n",
      " 24: multiple_classes_smaller\n",
      " 25: nathan1_example\n",
      " 26: nathan_pond_example\n",
      " 27: non_revealing\n",
      " 28: no_minimal_revealing\n",
      " 29: olga_f\n",
      " 30: olga_g\n",
      " 31: olga_gdash\n",
      " 32: olga_h\n",
      " 33: periodic_QNB_206\n",
      " 34: periodic_QNB_344\n",
      " 35: pond_width_4\n",
      " 36: power_smaller_QNB\n",
      " 37: semi_inf_c\n"
     ]
    }
   ],
   "source": [
    "show_examples()"
   ]
  },
  {
   "cell_type": "markdown",
   "metadata": {},
   "source": [
    "`thompson` includes a number of named example automorphisms for use in testing the package; the full list is shown here. To access an example we use `load_example` and save the result $f \\in V$ to a variable `f`."
   ]
  },
  {
   "cell_type": "code",
   "execution_count": 3,
   "metadata": {
    "collapsed": false
   },
   "outputs": [
    {
     "name": "stdout",
     "output_type": "stream",
     "text": [
      "InfiniteAut: V(2, 1) -> V(2, 1) specified by 7 generators (after expansion and reduction).\n",
      "x1 a1 a1       -> x1 a2 a1      \n",
      "x1 a1 a2 a1    -> x1 a1 a2      \n",
      "x1 a1 a2 a2    -> x1 a2 a2 a2   \n",
      "x1 a2 a1       -> x1 a1 a1 a2 a1\n",
      "x1 a2 a2 a1 a1 -> x1 a1 a1 a2 a2\n",
      "x1 a2 a2 a1 a2 -> x1 a2 a2 a1   \n",
      "x1 a2 a2 a2    -> x1 a1 a1 a1   \n"
     ]
    }
   ],
   "source": [
    "f = load_example('olga_f')\n",
    "print(f)"
   ]
  },
  {
   "cell_type": "markdown",
   "metadata": {},
   "source": [
    "Automorphisms are represented by the `Automorphism` class, and display human-readable representations when printing them. The `V(2, 1)` means that we are working in $G_{2, 1}$, otherwise known as Thompson's group $V$. The two columns below correspond the to leaves of a rooted binary tree, with the `->` arrow showing the mapping between the leaves.\n",
    "\n",
    "The printed output is quite similar to the format for saving automorphisms to disk. For instance, this is the file for [`example_4_1`](https://github.com/DMRobertson/thompsons_v/blob/master/thompson/examples/example_4_1.aut).\n",
    "\n",
    "```3\n",
    "(2,1)   -> (2,1)\n",
    "x a1 a1 -> x a1\n",
    "x a1 a2 -> x a2 a1\n",
    "x a2    -> x a2 a2\n",
    "This example is used in the paper to illustrate the meaning of a semi-normal form (Example :paperref:`ex:snf1`) and of a tree pair diagram (Example :paperref:`snf0`).```\n",
    "\n",
    "There are some extra details here: the number of rows, which $G_{n,r}$ we're working in, and a space for comments at the bottom.\n",
    "In short, the result of any calculations you've been working on can be saved and loaded; see [save_to_file()](http://thompsons-v.readthedocs.org/en/master/thompson.homomorphism.html#thompson.homomorphism.Homomorphism.save_to_file) and [from_file()](http://thompsons-v.readthedocs.org/en/master/thompson.homomorphism.html#thompson.homomorphism.Homomorphism.from_file)."
   ]
  },
  {
   "cell_type": "markdown",
   "metadata": {},
   "source": [
    "Automorphisms interact nicely with other Python functions and operators. For instance we can compute products, inverses and even powers."
   ]
  },
  {
   "cell_type": "code",
   "execution_count": 4,
   "metadata": {
    "collapsed": false,
    "scrolled": true
   },
   "outputs": [
    {
     "name": "stdout",
     "output_type": "stream",
     "text": [
      "InfiniteAut: V(2, 1) -> V(2, 1) specified by 7 generators (after expansion and reduction).\n",
      "x1 a1 a1 a1    -> x1 a2 a2 a2   \n",
      "x1 a1 a1 a2 a1 -> x1 a2 a1      \n",
      "x1 a1 a1 a2 a2 -> x1 a2 a2 a1 a1\n",
      "x1 a1 a2       -> x1 a1 a2 a1   \n",
      "x1 a2 a1       -> x1 a1 a1      \n",
      "x1 a2 a2 a1    -> x1 a2 a2 a1 a2\n",
      "x1 a2 a2 a2    -> x1 a1 a2 a2   \n",
      "InfiniteAut: V(2, 1) -> V(2, 1) specified by 9 generators (after expansion and reduction).\n",
      "x1 a1 a1          -> x1 a1 a1 a2 a1\n",
      "x1 a1 a2 a1 a1    -> x1 a1 a2      \n",
      "x1 a1 a2 a1 a2    -> x1 a2 a2 a2   \n",
      "x1 a1 a2 a2       -> x1 a1 a1 a1   \n",
      "x1 a2 a1          -> x1 a2 a1 a2 a1\n",
      "x1 a2 a2 a1 a1    -> x1 a2 a1 a2 a2\n",
      "x1 a2 a2 a1 a2 a1 -> x1 a1 a1 a2 a2\n",
      "x1 a2 a2 a1 a2 a2 -> x1 a2 a2 a1   \n",
      "x1 a2 a2 a2       -> x1 a2 a1 a1   \n",
      "InfiniteAut: V(2, 1) -> V(2, 1) specified by 11 generators (after expansion and reduction).\n",
      "x1 a1 a1             -> x1 a2 a1 a2 a1      \n",
      "x1 a1 a2 a1 a1 a1    -> x1 a1 a2            \n",
      "x1 a1 a2 a1 a1 a2    -> x1 a2 a2 a2         \n",
      "x1 a1 a2 a1 a2       -> x1 a1 a1 a1         \n",
      "x1 a1 a2 a2          -> x1 a2 a1 a1         \n",
      "x1 a2 a1             -> x1 a1 a1 a2 a1 a2 a1\n",
      "x1 a2 a2 a1 a1       -> x1 a1 a1 a2 a1 a2 a2\n",
      "x1 a2 a2 a1 a2 a1    -> x1 a2 a1 a2 a2      \n",
      "x1 a2 a2 a1 a2 a2 a1 -> x1 a1 a1 a2 a2      \n",
      "x1 a2 a2 a1 a2 a2 a2 -> x1 a2 a2 a1         \n",
      "x1 a2 a2 a2          -> x1 a1 a1 a2 a1 a1   \n"
     ]
    }
   ],
   "source": [
    "print(~f) #~ denotes the inverse\n",
    "print(f * f)\n",
    "print(f ** 3) # f to the third power"
   ]
  },
  {
   "cell_type": "markdown",
   "metadata": {},
   "source": [
    "If we load another automorphism $g \\in V$ we can see that $V$ is a non-Abelian group."
   ]
  },
  {
   "cell_type": "code",
   "execution_count": 5,
   "metadata": {
    "collapsed": false,
    "scrolled": true
   },
   "outputs": [
    {
     "name": "stdout",
     "output_type": "stream",
     "text": [
      "InfiniteAut: V(2, 1) -> V(2, 1) specified by 15 generators (after expansion and reduction).\n",
      "x1 a1 a1 a1 a1       -> x1 a1 a2 a1 a2      \n",
      "x1 a1 a1 a1 a2 a1 a1 -> x1 a1 a2 a2 a1      \n",
      "x1 a1 a1 a1 a2 a1 a2 -> x1 a1 a1            \n",
      "x1 a1 a1 a1 a2 a2    -> x1 a1 a2 a2 a2      \n",
      "x1 a1 a1 a2 a1 a1 a1 -> x1 a2 a1 a1 a2 a1 a1\n",
      "x1 a1 a1 a2 a1 a1 a2 -> x1 a2 a1 a1 a2 a2   \n",
      "x1 a1 a1 a2 a1 a2    -> x1 a2 a1 a2 a1      \n",
      "x1 a1 a1 a2 a2 a1    -> x1 a2 a1 a2 a2      \n",
      "x1 a1 a1 a2 a2 a2    -> x1 a2 a2 a1         \n",
      "x1 a1 a2 a1          -> x1 a2 a1 a1 a1      \n",
      "x1 a1 a2 a2          -> x1 a1 a2 a1 a1      \n",
      "x1 a2 a1             -> x1 a2 a2 a2 a2 a1   \n",
      "x1 a2 a2 a1 a1       -> x1 a2 a2 a2 a2 a2   \n",
      "x1 a2 a2 a1 a2       -> x1 a2 a1 a1 a2 a1 a2\n",
      "x1 a2 a2 a2          -> x1 a2 a2 a2 a1      \n",
      "InfiniteAut: V(2, 1) -> V(2, 1) specified by 14 generators (after expansion and reduction).\n",
      "x1 a1 a1             -> x1 a1 a1 a1               \n",
      "x1 a1 a2             -> x1 a1 a1 a2 a1 a1 a1      \n",
      "x1 a2 a1 a1 a1       -> x1 a1 a2 a2               \n",
      "x1 a2 a1 a1 a2 a1 a1 -> x1 a2 a2 a2 a1            \n",
      "x1 a2 a1 a1 a2 a1 a2 -> x1 a2 a1                  \n",
      "x1 a2 a1 a1 a2 a2    -> x1 a2 a2 a2 a2            \n",
      "x1 a2 a1 a2 a1 a1 a1 -> x1 a1 a1 a2 a1 a1 a2 a1 a1\n",
      "x1 a2 a1 a2 a1 a1 a2 -> x1 a1 a1 a2 a1 a1 a2 a2   \n",
      "x1 a2 a1 a2 a1 a2    -> x1 a1 a1 a2 a1 a2 a1      \n",
      "x1 a2 a1 a2 a2 a1    -> x1 a1 a1 a2 a1 a2 a2      \n",
      "x1 a2 a1 a2 a2 a2 a1 -> x1 a1 a1 a2 a2            \n",
      "x1 a2 a1 a2 a2 a2 a2 -> x1 a2 a2 a1               \n",
      "x1 a2 a2 a1          -> x1 a1 a1 a2 a1 a1 a2 a1 a2\n",
      "x1 a2 a2 a2          -> x1 a1 a2 a1               \n"
     ]
    },
    {
     "data": {
      "text/plain": [
       "False"
      ]
     },
     "execution_count": 5,
     "metadata": {},
     "output_type": "execute_result"
    }
   ],
   "source": [
    "g = load_example('olga_g')\n",
    "print(f*g)\n",
    "print(g*f)\n",
    "f*g == g*f"
   ]
  },
  {
   "cell_type": "markdown",
   "metadata": {},
   "source": [
    "The main reason for writing this package was to implement Higman's solution to the conjugacy problem, and to extend it to solve the simultaneous conjugacy problem."
   ]
  },
  {
   "cell_type": "code",
   "execution_count": 6,
   "metadata": {
    "collapsed": false
   },
   "outputs": [
    {
     "data": {
      "text/plain": [
       "True"
      ]
     },
     "execution_count": 6,
     "metadata": {},
     "output_type": "execute_result"
    }
   ],
   "source": [
    "f.is_conjugate_to(g)"
   ]
  },
  {
   "cell_type": "markdown",
   "metadata": {},
   "source": [
    "Even better, we can ask for a specific conjugator $k$ and test that $k^{-1}fk = g$."
   ]
  },
  {
   "cell_type": "code",
   "execution_count": 7,
   "metadata": {
    "collapsed": false
   },
   "outputs": [
    {
     "name": "stdout",
     "output_type": "stream",
     "text": [
      "MixedAut: V(2, 1) -> V(2, 1) specified by 12 generators (after expansion and reduction).\n",
      "x1 a1 a1                -> x1 a1 a2 a1         \n",
      "x1 a1 a2 a1 a1 a1       -> x1 a2 a1 a2 a2      \n",
      "x1 a1 a2 a1 a1 a2       -> x1 a2 a2 a1         \n",
      "x1 a1 a2 a1 a2          -> x1 a2 a1 a1 a2 a1 a2\n",
      "x1 a1 a2 a2             -> x1 a1 a1            \n",
      "x1 a2 a1                -> x1 a2 a1 a1 a1 a1   \n",
      "x1 a2 a2 a1 a1          -> x1 a2 a1 a1 a1 a2   \n",
      "x1 a2 a2 a1 a2 a1       -> x1 a1 a2 a2         \n",
      "x1 a2 a2 a1 a2 a2 a1 a1 -> x1 a2 a1 a1 a2 a1 a1\n",
      "x1 a2 a2 a1 a2 a2 a1 a2 -> x1 a2 a1 a1 a2 a2   \n",
      "x1 a2 a2 a1 a2 a2 a2    -> x1 a2 a1 a2 a1      \n",
      "x1 a2 a2 a2             -> x1 a2 a2 a2         \n"
     ]
    },
    {
     "data": {
      "text/plain": [
       "True"
      ]
     },
     "execution_count": 7,
     "metadata": {},
     "output_type": "execute_result"
    }
   ],
   "source": [
    "k = f.test_conjugate_to(g)\n",
    "print(k)\n",
    "~k*f*k == g"
   ]
  },
  {
   "cell_type": "markdown",
   "metadata": {},
   "source": [
    "For those familiar with Higman's paper, the data information used inside the can be inspected. These three examples are related to how $f$ acts on the interval $[0, 1]$."
   ]
  },
  {
   "cell_type": "code",
   "execution_count": 8,
   "metadata": {
    "collapsed": false
   },
   "outputs": [
    {
     "data": {
      "text/plain": [
       "Generators((2, 1), ['x1 a1 a1', 'x1 a1 a2', 'x1 a2 a1', 'x1 a2 a2 a1', 'x1 a2 a2 a2'])"
      ]
     },
     "execution_count": 8,
     "metadata": {},
     "output_type": "execute_result"
    }
   ],
   "source": [
    "f.quasinormal_basis"
   ]
  },
  {
   "cell_type": "code",
   "execution_count": 9,
   "metadata": {
    "collapsed": false
   },
   "outputs": [
    {
     "name": "stdout",
     "output_type": "stream",
     "text": [
      "x1 a1 a1 Right semi-infinite component with characteristic (2, a2 a1)\n",
      "x1 a1 a2 Left semi-infinite component with characteristic (-1, a1)\n",
      "x1 a2 a1 Right semi-infinite component with characteristic (2, a2 a1)\n",
      "x1 a2 a2 a1 Left semi-infinite component with characteristic (-1, a2)\n",
      "x1 a2 a2 a2 Bi-infinite component\n"
     ]
    }
   ],
   "source": [
    "f.dump_QNB()"
   ]
  },
  {
   "cell_type": "code",
   "execution_count": 10,
   "metadata": {
    "collapsed": false
   },
   "outputs": [
    {
     "name": "stdout",
     "output_type": "stream",
     "text": [
      "Left semi-infinite component with characteristic (-1, a1)\n",
      "{-1: Word('x1 a1 a2 a1', (2, 1)), 0: Word('x1 a1 a2', (2, 1))}\n"
     ]
    }
   ],
   "source": [
    "ctype, images, extra_stuff = f.orbit_type('x1 a1 a2')\n",
    "print(ctype)\n",
    "pprint(images)"
   ]
  },
  {
   "cell_type": "markdown",
   "metadata": {},
   "source": [
    "More details like the order of $f$ and its cycle type are available too:"
   ]
  },
  {
   "cell_type": "code",
   "execution_count": 11,
   "metadata": {
    "collapsed": false
   },
   "outputs": [
    {
     "data": {
      "text/plain": [
       "inf"
      ]
     },
     "execution_count": 11,
     "metadata": {},
     "output_type": "execute_result"
    }
   ],
   "source": [
    "f.order"
   ]
  },
  {
   "cell_type": "code",
   "execution_count": 12,
   "metadata": {
    "collapsed": false
   },
   "outputs": [
    {
     "data": {
      "text/plain": [
       "dict_keys([])"
      ]
     },
     "execution_count": 12,
     "metadata": {},
     "output_type": "execute_result"
    }
   ],
   "source": [
    "f.cycle_type #type `dict_keys'---similar to a set"
   ]
  },
  {
   "cell_type": "markdown",
   "metadata": {},
   "source": [
    "Compare with a finite order element of $V$:"
   ]
  },
  {
   "cell_type": "code",
   "execution_count": 13,
   "metadata": {
    "collapsed": false
   },
   "outputs": [
    {
     "data": {
      "text/plain": [
       "20640"
      ]
     },
     "execution_count": 13,
     "metadata": {},
     "output_type": "execute_result"
    }
   ],
   "source": [
    "h = load_example('periodic_QNB_344')\n",
    "h.order"
   ]
  },
  {
   "cell_type": "code",
   "execution_count": 14,
   "metadata": {
    "collapsed": false
   },
   "outputs": [
    {
     "data": {
      "text/plain": [
       "dict_keys([160, 172, 6])"
      ]
     },
     "execution_count": 14,
     "metadata": {},
     "output_type": "execute_result"
    }
   ],
   "source": [
    "h.cycle_type"
   ]
  },
  {
   "cell_type": "markdown",
   "metadata": {},
   "source": [
    "The element $h \\in G_{4,5}$ is fairly big, which would make it a nightmare to work with by hand."
   ]
  },
  {
   "cell_type": "code",
   "execution_count": 15,
   "metadata": {
    "collapsed": false
   },
   "outputs": [
    {
     "name": "stdout",
     "output_type": "stream",
     "text": [
      "PeriodicAut: V(4, 5) -> V(4, 5) specified by 20 generators (after expansion and reduction).\n",
      "x1          -> x5 a1 a4 a4   \n",
      "x2 a1       -> x4            \n",
      "x2 a2       -> x5 a4         \n",
      "x2 a3       -> x5 a2         \n",
      "x2 a4 a1    -> x5 a3 a1      \n",
      "x2 a4 a2    -> x5 a1 a4 a1 a4\n",
      "x2 a4 a3    -> x5 a3 a3      \n",
      "x2 a4 a4 a1 -> x3            \n",
      "x2 a4 a4 a2 -> x5 a1 a4 a1 a3\n",
      "x2 a4 a4 a3 -> x5 a1 a2      \n",
      "x2 a4 a4 a4 -> x5 a1 a1      \n",
      "x3 a1       -> x1            \n",
      "x3 a2       -> x5 a1 a4 a3   \n",
      "x3 a3 a1    -> x5 a3 a2      \n",
      "x3 a3 a2    -> x5 a1 a3      \n",
      "x3 a3 a3    -> x5 a1 a4 a1 a2\n",
      "x3 a3 a4    -> x5 a1 a4 a1 a1\n",
      "x3 a4       -> x5 a1 a4 a2   \n",
      "x4          -> x5 a3 a4      \n",
      "x5          -> x2            \n"
     ]
    }
   ],
   "source": [
    "print(h)"
   ]
  },
  {
   "cell_type": "markdown",
   "metadata": {},
   "source": [
    "Hopefully this convinces you that there this kind of software is useful---as a time-saver at the very least!\n",
    "\n",
    "For more information, have a look at the [project page on Github](https://github.com/DMRobertson/thompsons_v/) or the [documentation on Read the Docs](http://thompsons-v.readthedocs.org/)."
   ]
  }
 ],
 "metadata": {
  "kernelspec": {
   "display_name": "Python 3",
   "language": "python",
   "name": "python3"
  },
  "language_info": {
   "codemirror_mode": {
    "name": "ipython",
    "version": 3
   },
   "file_extension": ".py",
   "mimetype": "text/x-python",
   "name": "python",
   "nbconvert_exporter": "python",
   "pygments_lexer": "ipython3",
   "version": "3.3.3"
  }
 },
 "nbformat": 4,
 "nbformat_minor": 0
}
