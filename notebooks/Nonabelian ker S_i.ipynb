{
 "cells": [
  {
   "cell_type": "markdown",
   "metadata": {},
   "source": [
    "# An element $\\alpha$ with one flow graph component. Its $\\operatorname{ker} \\mathcal{S}_i$ group is not Abelian."
   ]
  },
  {
   "cell_type": "code",
   "execution_count": 1,
   "metadata": {
    "collapsed": false,
    "scrolled": true
   },
   "outputs": [],
   "source": [
    "from thompson import *\n",
    "alpha = load_example('nonab_cent_inf')\n",
    "beta  = load_example('nonab_cent_shift_2')\n",
    "gamma = load_example('nonab_cent_transposition')"
   ]
  },
  {
   "cell_type": "markdown",
   "metadata": {},
   "source": [
    "Here's the element $\\alpha$ in question. It's meant to be something in $G_{2, 1}$, but I loaded it into `thompson` as something in $G_{2, 12}$. Unfortunately I never made the rendering code work for anything other than $G_{2, 1}$ (it was just a quick and dirty hackhack anyway!)"
   ]
  },
  {
   "cell_type": "code",
   "execution_count": 5,
   "metadata": {
    "collapsed": false
   },
   "outputs": [
    {
     "name": "stdout",
     "output_type": "stream",
     "text": [
      "InfiniteAut: V(2, 12) -> V(2, 12) specified by 24 generators (after expansion and reduction).\n",
      "x1 a1 a1 -> x8 a1    \n",
      "x1 a1 a2 -> x9 a2 a1 \n",
      "x1 a2    -> x1       \n",
      "x2 a1 a1 -> x7 a1    \n",
      "x2 a1 a2 -> x12 a2 a1\n",
      "x2 a2    -> x2       \n",
      "x3 a1 a1 -> x10 a1   \n",
      "x3 a1 a2 -> x11 a2 a1\n",
      "x3 a2    -> x3       \n",
      "x4 a1 a1 -> x9 a1    \n",
      "x4 a1 a2 -> x8 a2 a1 \n",
      "x4 a2    -> x4       \n",
      "x5 a1 a1 -> x12 a1   \n",
      "x5 a1 a2 -> x7 a2 a1 \n",
      "x5 a2    -> x5       \n",
      "x6 a1 a1 -> x11 a1   \n",
      "x6 a1 a2 -> x10 a2 a1\n",
      "x6 a2    -> x6       \n",
      "x7       -> x7 a2 a2 \n",
      "x8       -> x8 a2 a2 \n",
      "x9       -> x9 a2 a2 \n",
      "x10      -> x10 a2 a2\n",
      "x11      -> x11 a2 a2\n",
      "x12      -> x12 a2 a2\n"
     ]
    }
   ],
   "source": [
    "print(alpha)"
   ]
  },
  {
   "cell_type": "code",
   "execution_count": 12,
   "metadata": {
    "collapsed": false
   },
   "outputs": [
    {
     "name": "stdout",
     "output_type": "stream",
     "text": [
      "alpha is a InfiniteAut of order inf\n",
      "beta is a PeriodicAut of order 3\n",
      "gamma is a PeriodicAut of order 2\n"
     ]
    }
   ],
   "source": [
    "names = (\"alpha\", \"beta\", \"gamma\")\n",
    "auts =  ( alpha,   beta ,  gamma )\n",
    "\n",
    "for name, aut in zip(names, auts):\n",
    "    aut = locals()[name]\n",
    "    print(name, \"is a\", type(aut).__name__, \"of order\", aut.order)"
   ]
  },
  {
   "cell_type": "code",
   "execution_count": 10,
   "metadata": {
    "collapsed": false
   },
   "outputs": [
    {
     "name": "stdout",
     "output_type": "stream",
     "text": [
      "alpha commutes with beta : True\n",
      "alpha commutes with gamma: True\n",
      "beta  commutes with gamma: False\n"
     ]
    }
   ],
   "source": [
    "def commutes(x, y, xname, yname):\n",
    "        print(xname, \"commutes with\", yname + \":\", x * y == y * x)\n",
    "commutes(alpha, beta , 'alpha', 'beta ')\n",
    "commutes(alpha, gamma, 'alpha', 'gamma')\n",
    "commutes(beta , gamma, 'beta ', 'gamma')"
   ]
  },
  {
   "cell_type": "markdown",
   "metadata": {},
   "source": [
    "This shows that $\\operatorname{ker} \\mathcal{S}_i$ contains a copy of $\\mathcal{S}_3$. My sneaking suspicion is that this is the entire kernel..."
   ]
  }
 ],
 "metadata": {
  "kernelspec": {
   "display_name": "Python 3",
   "language": "python",
   "name": "python3"
  },
  "language_info": {
   "codemirror_mode": {
    "name": "ipython",
    "version": 3
   },
   "file_extension": ".py",
   "mimetype": "text/x-python",
   "name": "python",
   "nbconvert_exporter": "python",
   "pygments_lexer": "ipython3",
   "version": "3.4.3"
  }
 },
 "nbformat": 4,
 "nbformat_minor": 0
}
