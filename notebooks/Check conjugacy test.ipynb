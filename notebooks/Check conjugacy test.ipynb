{
 "cells": [
  {
   "cell_type": "code",
   "execution_count": null,
   "metadata": {
    "collapsed": false
   },
   "outputs": [
    {
     "name": "stdout",
     "output_type": "stream",
     "text": [
      "0\n",
      "50\n",
      "100\n",
      "150\n"
     ]
    }
   ],
   "source": [
    "from thompson import *\n",
    "from thompson.examples.random import *\n",
    "i = -1\n",
    "while i < 5000:\n",
    "    i += 1\n",
    "    if i % 50 == 0:\n",
    "        print(i)\n",
    "    d, e = random_conjugate_pair()\n",
    "    if not d.is_conjugate_to(e):\n",
    "        print(d)\n",
    "        print(e)\n",
    "        break"
   ]
  }
 ],
 "metadata": {
  "kernelspec": {
   "display_name": "thompsons_v venv",
   "language": "python",
   "name": "thompsons_v"
  },
  "language_info": {
   "codemirror_mode": {
    "name": "ipython",
    "version": 3
   },
   "file_extension": ".py",
   "mimetype": "text/x-python",
   "name": "python",
   "nbconvert_exporter": "python",
   "pygments_lexer": "ipython3",
   "version": "3.4.3"
  }
 },
 "nbformat": 4,
 "nbformat_minor": 1
}
